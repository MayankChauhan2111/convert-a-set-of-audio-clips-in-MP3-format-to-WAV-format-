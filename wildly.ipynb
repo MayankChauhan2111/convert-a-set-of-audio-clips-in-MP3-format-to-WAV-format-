{
 "cells": [
  {
   "cell_type": "code",
   "execution_count": 1,
   "id": "19a1778e",
   "metadata": {},
   "outputs": [
    {
     "name": "stdout",
     "output_type": "stream",
     "text": [
      "Collecting pydub\n",
      "  Downloading pydub-0.25.1-py2.py3-none-any.whl (32 kB)\n",
      "Collecting ffmpeg-python\n",
      "  Downloading ffmpeg_python-0.2.0-py3-none-any.whl (25 kB)\n",
      "Requirement already satisfied: future in c:\\users\\dell\\appdata\\roaming\\python\\python310\\site-packages (from ffmpeg-python) (0.18.2)\n",
      "Installing collected packages: pydub, ffmpeg-python\n",
      "Successfully installed ffmpeg-python-0.2.0 pydub-0.25.1\n",
      "\n",
      "[notice] A new release of pip available: 22.1.2 -> 23.0.1\n",
      "[notice] To update, run: python.exe -m pip install --upgrade pip\n"
     ]
    }
   ],
   "source": [
    "#STEP 1:- INSTALL LIBRARY\n",
    "!pip install pydub ffmpeg-python\n"
   ]
  },
  {
   "cell_type": "code",
   "execution_count": null,
   "id": "d84c8980",
   "metadata": {},
   "outputs": [],
   "source": [
    "# STEP 2:-Copy and paste the code below into a file named audio_converter.py:\n",
    "import os\n",
    "import sys\n",
    "from pydub import AudioSegment\n",
    "\n",
    "def convert_to_wav(mp3_file, wav_file):\n",
    "    sound = AudioSegment.from_mp3(mp3_file)\n",
    "    sound.export(wav_file, format=\"wav\")\n",
    "\n",
    "def convert_folder(input_folder, output_folder):\n",
    "    if not os.path.exists(output_folder):\n",
    "        os.makedirs(output_folder)\n",
    "\n",
    "    for file in os.listdir(input_folder):\n",
    "        if file.endswith(\".mp3\"):\n",
    "            mp3_file = os.path.join(input_folder, file)\n",
    "            wav_file = os.path.join(output_folder, os.path.splitext(file)[0] + \".wav\")\n",
    "            convert_to_wav(mp3_file, wav_file)\n",
    "\n",
    "if __name__ == \"__main__\":\n",
    "    if len(sys.argv) < 3:\n",
    "        print(\"Usage: python audio_converter.py input_folder output_folder\")\n",
    "        sys.exit(1)\n",
    "\n",
    "    input_folder = sys.argv[1]\n",
    "    output_folder = sys.argv[2]\n",
    "    convert_folder(input_folder, output_folder)\n"
   ]
  },
  {
   "cell_type": "code",
   "execution_count": null,
   "id": "de62d7ec",
   "metadata": {},
   "outputs": [],
   "source": [
    "#Step 3: Run the script To run the script, open a terminal or command prompt, navigate to the directory where the script is located, and type the following command:\n",
    "\n",
    "\n",
    "python audio_converter.py input_folder output_folder\n"
   ]
  },
  {
   "cell_type": "code",
   "execution_count": null,
   "id": "c546322f",
   "metadata": {},
   "outputs": [],
   "source": []
  }
 ],
 "metadata": {
  "kernelspec": {
   "display_name": "Python 3 (ipykernel)",
   "language": "python",
   "name": "python3"
  },
  "language_info": {
   "codemirror_mode": {
    "name": "ipython",
    "version": 3
   },
   "file_extension": ".py",
   "mimetype": "text/x-python",
   "name": "python",
   "nbconvert_exporter": "python",
   "pygments_lexer": "ipython3",
   "version": "3.10.9"
  }
 },
 "nbformat": 4,
 "nbformat_minor": 5
}
